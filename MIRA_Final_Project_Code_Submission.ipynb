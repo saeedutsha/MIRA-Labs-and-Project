{
  "cells": [
    {
      "cell_type": "markdown",
      "metadata": {
        "id": "HL3Ku9St2zUY"
      },
      "source": [
        "** Libraries import **"
      ]
    },
    {
      "cell_type": "code",
      "source": [
        "!pip install SimpleITK-SimpleElastix"
      ],
      "metadata": {
        "colab": {
          "base_uri": "https://localhost:8080/"
        },
        "id": "_6zzNcLn25YQ",
        "outputId": "4306badd-749c-40e8-d390-4f81a3740943"
      },
      "execution_count": null,
      "outputs": [
        {
          "output_type": "stream",
          "name": "stdout",
          "text": [
            "Looking in indexes: https://pypi.org/simple, https://us-python.pkg.dev/colab-wheels/public/simple/\n",
            "Requirement already satisfied: SimpleITK-SimpleElastix in /usr/local/lib/python3.8/dist-packages (2.0.0rc2.dev909)\n"
          ]
        }
      ]
    },
    {
      "cell_type": "code",
      "execution_count": null,
      "metadata": {
        "id": "76GyTOIy2zUa"
      },
      "outputs": [],
      "source": [
        "import cv2\n",
        "import numpy as np\n",
        "import numpy as np                                            \n",
        "import matplotlib.pyplot as plt                 \n",
        "from sklearn.cluster import KMeans\n",
        "from skimage import measure, morphology, segmentation \n",
        "import SimpleITK as sitk\n",
        "import nibabel as nib\n",
        "import scipy.ndimage\n",
        "from scipy import ndimage as ndi\n",
        "from skimage.morphology import ball, disk, dilation, binary_erosion, remove_small_objects, erosion, closing, reconstruction, binary_closing, opening\n",
        "from skimage.measure import label,regionprops, perimeter\n",
        "from skimage.morphology import binary_dilation, binary_opening\n",
        "import skimage.morphology\n",
        "from skimage.morphology import closing, square,cube, dilation, ball\n",
        "from skimage import measure, feature\n",
        "from skimage.segmentation import clear_border, mark_boundaries\n",
        "import os\n",
        "from google.colab import drive\n",
        "import math\n",
        "from sklearn.preprocessing import MinMaxScaler"
      ]
    },
    {
      "cell_type": "code",
      "source": [
        "drive.mount('/content/gdrive')"
      ],
      "metadata": {
        "colab": {
          "base_uri": "https://localhost:8080/"
        },
        "id": "aNlt3glj3Dzf",
        "outputId": "be3c5579-5a69-46e0-9eb9-87ffaddc1abd"
      },
      "execution_count": null,
      "outputs": [
        {
          "output_type": "stream",
          "name": "stdout",
          "text": [
            "Drive already mounted at /content/gdrive; to attempt to forcibly remount, call drive.mount(\"/content/gdrive\", force_remount=True).\n"
          ]
        }
      ]
    },
    {
      "cell_type": "code",
      "execution_count": null,
      "metadata": {
        "id": "mA1z8v4G2zUe"
      },
      "outputs": [],
      "source": [
        "#Working directories\n",
        "input_directory= '/content/gdrive/MyDrive/Colab Notebooks/Final Project MIRA/'\n",
        "train_directory = input_directory+'train' \n",
        "test_directory = input_directory+'test'\n",
        "parameters_directory= input_directory+'parameters'\n"
      ]
    },
    {
      "cell_type": "code",
      "execution_count": null,
      "metadata": {
        "id": "wVQ0cC4K2zUf"
      },
      "outputs": [],
      "source": [
        "def slice_show(image, slice_no, title,nibabel):\n",
        "    \"\"\"\n",
        "    Function to visualize a 2D slice from the 3D image. \n",
        "\n",
        "    Args: \n",
        "    image (nifti, sitk.Image): Image that needs to be visualized.\n",
        "    slice_no (int): Slice Number from 1 to 48.\n",
        "    title (str): Title of the Image.\n",
        "    nibabel => Boolean variable to know whether the image was loaded with nibabel or simpleITK library.\n",
        "    \n",
        "    Returns:\n",
        "    (plt) Plot Image.\n",
        "\n",
        "    \"\"\" \n",
        "    plt.figure(figsize=(5,5))\n",
        "    plt.axis('off')\n",
        "    plt.title(title)\n",
        "    if nibabel==True:\n",
        "        plt.imshow(image[:,:,slice_no].T, cmap='gray') # Transpose the slice image from the one read by Nibabel as we want to see vertical image\n",
        "    else:\n",
        "        plt.imshow(image[:,:,slice_no], cmap='gray') # Transpose the slice image from the one read by Nibabel as we want to see vertical image\n",
        "    #plt.imshow(image[:,:,slice_no].T, cmap='gray') # Transpose the slice image from the one read by Nibabel as we want to see vertical image"
      ]
    },
    {
      "cell_type": "code",
      "execution_count": null,
      "metadata": {
        "id": "srgRTgy-2zUg"
      },
      "outputs": [],
      "source": [
        "def computeTRE(transformed, target, voxel_size):\n",
        "  \"\"\"\n",
        "  Function to compute the TRE between the transformed and target landmarks. \n",
        "  \n",
        "  Args: \n",
        "  transformed (list): contains the transformed landmarks coordinates in x,y and z dimension.\n",
        "  target (list): contains the landmarks coordinates of target image in x,y and z dimension.\n",
        "  voxel_size (list): voxel spacing in x,y and z dimension.\n",
        "  \n",
        "  Returns: \n",
        "  tre_error (float) returns the TRE error per each pair of the landmark point.\n",
        "\n",
        "  \"\"\" \n",
        "\n",
        "  #Computation of the TRE for each image coordinate\n",
        "  x_diff_sqr =  pow(((transformed[0] - target[0])*voxel_size[0]),2)\n",
        "  y_diff_sqr =  pow(((transformed[1] - target[1])*voxel_size[1]),2)\n",
        "  z_diff_sqr =  pow(((transformed[2] - target[2])*voxel_size[2]),2)\n",
        "\n",
        "  tre_error = math.sqrt(x_diff_sqr + y_diff_sqr + z_diff_sqr) # 3D Eucledian Distance Computation\n",
        "\n",
        "  return tre_error"
      ]
    },
    {
      "cell_type": "code",
      "execution_count": null,
      "metadata": {
        "id": "plbhVPrX2zUh"
      },
      "outputs": [],
      "source": [
        "def computeTRE_MeanStd(transformed_landmarks, target_landmarks, voxel_size):\n",
        "  \"\"\"\n",
        "  Function to compute the mean of the TRE and Standard deviation for \n",
        "  \n",
        "  Inputs: \n",
        "  transformed_landmarks (list): a list of the transformed landmark points.\n",
        "  target_landmarks (list): a list of the target image landmark points.\n",
        "  voxel_size (list): voxel spacing in x,y and z dimension.\n",
        "  \n",
        "  output: returns the mean and std of TRE error per pair of the given two images.\n",
        "\n",
        "  \"\"\" \n",
        "  all_tre = [] # A list which will hold all the TRE per point\n",
        "\n",
        "  #Computation of the mean and standard deviation of the TRE \n",
        "  for i in range(len(transformed_landmarks)):\n",
        "    temp_tre = computeTRE(transformed_landmarks[i], target_landmarks[i], voxel_size)\n",
        "    all_tre.append(temp_tre)\n",
        "  mean_tre = np.mean(all_tre) # Mean\n",
        "  std_tre = np.std(all_tre) # Standard deviation\n",
        "  return mean_tre, std_tre"
      ]
    },
    {
      "cell_type": "code",
      "execution_count": null,
      "metadata": {
        "id": "CSuDxway2zUi"
      },
      "outputs": [],
      "source": [
        "def loadData(directory):\n",
        "  \"\"\"\n",
        "  Function to load the data from a given directory in order to get it ready to work.\n",
        "\n",
        "  Args:\n",
        "  directory  (str): he place where train/validation/test images and landmarks are stored,\n",
        "\n",
        "  Returns:\n",
        "  inhale_images (list): list of the inhale images of all the patient.\n",
        "  exhale_images (list): list of the exhale images of all the patient.\n",
        "  inhale_images_metadata (sitk.Image): SimpleITK object of the inhale image. \n",
        "  exhale_images_metadata (sitk.Image): SimpleITK object of the exhale image.\n",
        "  inhale_landmarks (list): list of the inhale image landmarks of all the patients.\n",
        "  exhale_landmarks (list): list of the exhale image landmarks of all the patients.\n",
        "  voxel_size_list (list): list of the voxel dimensions of the images of all the patient.\n",
        "\n",
        "  \"\"\"\n",
        "  inhale_images = []\n",
        "  exhale_images = []\n",
        "  inhale_images_metadata = []\n",
        "  exhale_images_metadata = []\n",
        "  inhale_landmarks = []\n",
        "  exhale_landmarks = []\n",
        "  voxel_size_list = []\n",
        "\n",
        "\n",
        "  for folders in sorted(os.listdir(directory)):\n",
        "    images_directory = os.path.join(directory, folders) # Accessing each patient folder\n",
        "    for files in sorted(os.listdir(images_directory)):\n",
        "      if '.txt' in files: # Accessing each landmark files\n",
        "        if '_eBH' in files: # Accessing each exhale landmark files\n",
        "          with open(os.path.join(images_directory, files)) as f:\n",
        "            exhale_landmarks_raw = []\n",
        "            for line in f:\n",
        "              exhale_landmarks_raw.append([float(n) for n in line.strip().split('\\t')]) # Converting the text file to a list of points\n",
        "            exhale_landmarks.append(exhale_landmarks_raw)\n",
        "        elif '_iBH' in files: # Accessing each inhale landmark files\n",
        "          with open(os.path.join(images_directory, files)) as f:\n",
        "            inhale_landmarks_raw = []\n",
        "            for line in f.readlines()[2:]:\n",
        "              inhale_landmarks_raw.append([float(n) for n in line.strip().split('\\t')]) # Converting the text file to a list of points\n",
        "            inhale_landmarks.append(inhale_landmarks_raw)\n",
        "        else:\n",
        "          pass \n",
        "      else:\n",
        "        if '_eBH' in files: # Accessing each exhale image files\n",
        "          exhale_img_data= sitk.ReadImage(os.path.join(images_directory,files))\n",
        "          exhale_images_metadata.append(exhale_img_data)\n",
        "          sx,sy,sz= exhale_img_data.GetSpacing()\n",
        "          voxel_size = [sx, sy, sz]\n",
        "          voxel_size_list.append(voxel_size)\n",
        "          exhale_img = np.moveaxis(sitk.GetArrayFromImage(exhale_img_data),0,-1)\n",
        "          exhale_images.append(exhale_img)\n",
        "        elif '_iBH' in files: # Accessing each inhale image files\n",
        "          inhale_img_data = sitk.ReadImage(os.path.join(images_directory, files)) # reading the .nii image\n",
        "          inhale_images_metadata.append(inhale_img_data)\n",
        "          inhale_img = np.moveaxis(sitk.GetArrayFromImage(inhale_img_data),0,-1) \n",
        "          inhale_images.append(inhale_img)\n",
        "        else: \n",
        "          pass\n",
        "  return inhale_images, exhale_images, inhale_images_metadata, exhale_images_metadata, inhale_landmarks,exhale_landmarks, voxel_size_list"
      ]
    },
    {
      "cell_type": "code",
      "execution_count": null,
      "metadata": {
        "id": "jhqcGxEs2zUj"
      },
      "outputs": [],
      "source": [
        "def preprocessImages(inhale_images, exhale_images,inhale_images_metadata, exhale_images_metadata):\n",
        "    \"\"\"\n",
        "        Function to preprocess the raw images. \n",
        "\n",
        "        Args: \n",
        "        inhale_images (np.ndarray): 3D numpy array corresponding to the inhale image\n",
        "        exhale_images (np.ndarray): 3D numpy array corresponding to the exhale image\n",
        "        inhale_images_metadata (sitk.Image): SimpleITK image object corresponding to the inhale image\n",
        "        exhale_images_metadata (sitk.Image): SimpleITK image object corresponding to the exhale image\n",
        "\n",
        "        Returns: \n",
        "        preprocess_inhale (np.ndarray): 3D numpy array corresponding to the inhale image after preprocessing\n",
        "        preprocess_exhale (np.ndarray): 3D numpy array corresponding to the exhale image after preprocessing\n",
        "        preprocess_inhale_metadata (sitk.Image): SimpleITK image object corresponding to the inhale image after preprocessing\n",
        "        preprocess_exhale_metadata (sitk.Image): SimpleITK image object corresponding to the exhale image after preprocessing\n",
        "\n",
        "    \"\"\"\n",
        "    preprocess_inhale=[]\n",
        "    preprocess_exhale=[]\n",
        "    preprocess_inhale_metadata=[]\n",
        "    preprocessed_exhale_metadata=[]\n",
        "\n",
        "    for i in range(len(inhale_images)):\n",
        "        preprocess_directory= train_directory+'/'+str(i+1)+\"/\"\n",
        "\n",
        "        #Copy of input images\n",
        "        inhale_images_array= inhale_images[i].copy()\n",
        "        exhale_images_array= exhale_images[i].copy()\n",
        "\n",
        "        #Setting to 0 pizels with value -2000\n",
        "        inhale_images_array[inhale_images_array<0]=0\n",
        "        exhale_images_array[exhale_images_array<0]=0\n",
        "        \n",
        "        #Obtaining min and max of both inhale and exhale images\n",
        "        min_inhale= inhale_images_array.min()\n",
        "        max_inhale= inhale_images_array.max()\n",
        "        min_exhale= exhale_images_array.min()\n",
        "        max_exhale= exhale_images_array.max()\n",
        "        \n",
        "        #Min-max normalization of both inhale and exhale images\n",
        "        inhale_normalized= (inhale_images_array-min_inhale)/(max_inhale-min_inhale)\n",
        "        exhale_normalized= (exhale_images_array-min_exhale)/(max_exhale-min_exhale)\n",
        "        inhale_normalized *= 65535\n",
        "        exhale_normalized *= 65535\n",
        "\n",
        "        #Converting 3D numpy array to SimpleITK image object \n",
        "        inhale_preprocess_img = sitk.GetImageFromArray(np.moveaxis(inhale_normalized,-1,0))\n",
        "        inhale_preprocess_img.CopyInformation(inhale_images_metadata[i])\n",
        "\n",
        "        exhale_preprocess_img = sitk.GetImageFromArray(np.moveaxis(exhale_normalized,-1,0))\n",
        "        exhale_preprocess_img.CopyInformation(exhale_images_metadata[i]) \n",
        "\n",
        "        #Exporting the image\n",
        "        sitk.WriteImage(inhale_preprocess_img, preprocess_directory+\"inhale_preprocessed\"+str(i+1)+\".nii.gz\")\n",
        "        sitk.WriteImage(exhale_preprocess_img, preprocess_directory+\"exhale_preprocessed\"+str(i+1)+\".nii.gz\")\n",
        "        \n",
        "        #Saving the results in the corresponding lists\n",
        "        preprocess_inhale.append(inhale_normalized)\n",
        "        preprocess_exhale.append(exhale_normalized)\n",
        "        preprocess_inhale_metadata.append(inhale_preprocess_img)\n",
        "        preprocessed_exhale_metadata.append(exhale_preprocess_img)\n",
        "\n",
        "    return preprocess_inhale, preprocess_exhale, preprocess_inhale_metadata, preprocessed_exhale_metadata\n",
        "    "
      ]
    },
    {
      "cell_type": "code",
      "execution_count": null,
      "metadata": {
        "id": "YF7fUf162zUl"
      },
      "outputs": [],
      "source": [
        "def ConvertToHU(source_img):\n",
        "    \"\"\"\n",
        "        Function to convert image to HU units.\n",
        "        \n",
        "        Args: \n",
        "        source_img (sitk.Image): source image in SimpleITK format. \n",
        "\n",
        "        Returns: \n",
        "        hu_img_array (np.ndarray): 3D numpy array with the image converted to HU units. \n",
        "\n",
        "    \"\"\"\n",
        "    \n",
        "    #Rescaling the intensity of the image\n",
        "    hu_img= sitk.RescaleIntensity(source_img,-1000,1000)\n",
        "    hu_img_array= np.moveaxis(sitk.GetArrayFromImage(hu_img),0,-1)\n",
        "\n",
        "    return hu_img_array"
      ]
    },
    {
      "cell_type": "code",
      "execution_count": null,
      "metadata": {
        "id": "MR-656L42zUl"
      },
      "outputs": [],
      "source": [
        "def ConvertToHuNibabel(source_img,patient,inhale):\n",
        "      \"\"\"\n",
        "        Function to convert Nibabel image to HU units.\n",
        "        \n",
        "        Args: \n",
        "        source_img (Nibabel image): source image in SimpleITK format.\n",
        "        patient (int): patient number. \n",
        "        inhale (bool):\n",
        "\n",
        "        Returns: \n",
        "        img (Nibabel image): image converted to HU units.\n",
        "\n",
        "      \"\"\"\n",
        "      #Loading the image\n",
        "      img= nib.load(source_img)\n",
        "      #Setting slope and intercept of the image\n",
        "      arr_header= img.header\n",
        "      arr_header.set_slope_inter(1,-1024)\n",
        "      #Converting inhale and exhale images depending on the value of inhale variable \n",
        "      if inhale == True:\n",
        "          nib.save(img, train_directory+'/'+str(patient+1)+'/HU_inhale_preprocessed_'+str(patient+1)+'.nii.gz')\n",
        "      elif inhale== False:\n",
        "          nib.save(img, train_directory+'/'+str(patient+1)+'/HU_exhale_preprocessed_'+str(patient+1)+'.nii.gz')\n",
        "      else:\n",
        "          pass"
      ]
    },
    {
      "cell_type": "code",
      "execution_count": null,
      "metadata": {
        "id": "3jKJGlxK2zUm"
      },
      "outputs": [],
      "source": [
        "# Training Images and Landmarks\n",
        "train_inhale_images,train_exhale_images,train_inhale_images_metadata,train_exhale_images_metadata,train_inhale_landmarks,train_exhale_landmarks, patient_voxel_size_list = loadData(train_directory)"
      ]
    },
    {
      "cell_type": "code",
      "execution_count": null,
      "metadata": {
        "id": "Rc8UlY662zUn"
      },
      "outputs": [],
      "source": [
        "# Preprocessed images\n",
        "preprocessed_inhale, preprocessed_exhale, preprocessed_inhale_metadata, preprocessed_exhale_metadata = preprocessImages(train_inhale_images, train_exhale_images,train_inhale_images_metadata, train_exhale_images_metadata)"
      ]
    },
    {
      "cell_type": "code",
      "execution_count": null,
      "metadata": {
        "colab": {
          "base_uri": "https://localhost:8080/",
          "height": 621
        },
        "id": "_hHnVver2zUn",
        "outputId": "307afef0-b552-4daf-cdf5-3b750737fdaf"
      },
      "outputs": [
        {
          "output_type": "display_data",
          "data": {
            "text/plain": [
              "<Figure size 360x360 with 1 Axes>"
            ],
            "image/png": "[encoded data removed]"
          },
          "metadata": {
            "needs_background": "light"
          }
        },
        {
          "output_type": "display_data",
          "data": {
            "text/plain": [
              "<Figure size 360x360 with 1 Axes>"
            ],
            "image/png": "[encoded data removed]"
          },
          "metadata": {
            "needs_background": "light"
          }
        }
      ],
      "source": [
        "# Examples of image before and after preprocessing\n",
        "slice_show(train_inhale_images[0],50,'Slice50 raw',False)\n",
        "slice_show(preprocessed_inhale[0],50,'Slice50 preprocessed',False)"
      ]
    },
    {
      "cell_type": "code",
      "execution_count": null,
      "metadata": {
        "id": "A2Q85q5P4oY2"
      },
      "outputs": [],
      "source": [
        "#Converting inhale images to HU units\n",
        "HU_images_sitk_inhale=[]\n",
        "for i in range(4):\n",
        "    HU_images_sitk_inhale.append(ConvertToHU(preprocessed_inhale_metadata[i]))"
      ]
    },
    {
      "cell_type": "code",
      "execution_count": null,
      "metadata": {
        "id": "F9E6CDIK4oY3"
      },
      "outputs": [],
      "source": [
        "#Converting exhale images to HU units\n",
        "HU_images_sitk_exhale=[]\n",
        "for i in range(4):\n",
        "    HU_images_sitk_exhale.append(ConvertToHU(preprocessed_exhale_metadata[i]))"
      ]
    },
    {
      "cell_type": "code",
      "execution_count": null,
      "metadata": {
        "id": "1qNAGNWY4oY3"
      },
      "outputs": [],
      "source": [
        "#Converting inhale Nibabel images to HU units \n",
        "for i in range(4):\n",
        "    ConvertToHuNibabel(train_directory+'/'+str(i+1)+'/inhale_preprocessed'+str(i+1)+'.nii.gz',i,True)"
      ]
    },
    {
      "cell_type": "code",
      "execution_count": null,
      "metadata": {
        "id": "IqAfdjb-4oY3"
      },
      "outputs": [],
      "source": [
        "#Converting exhale Nibabel images to HU units\n",
        "for j in range(4):\n",
        "    ConvertToHuNibabel(train_directory+'/'+str(i+1)+'/exhale_preprocessed'+str(i+1)+'.nii.gz',j,False)"
      ]
    },
    {
      "cell_type": "code",
      "execution_count": null,
      "metadata": {
        "id": "rtUIi6xb4oY3"
      },
      "outputs": [],
      "source": [
        "#Saving the inhale images after converted to HU units\n",
        "HU_images_nibabel_inhale=[]\n",
        "for i in range(4):\n",
        "    img= nib.load(train_directory+'/'+str(i+1)+\"/HU_inhale_preprocessed_\"+str(i+1)+\".nii.gz\")\n",
        "    img_data= img.get_fdata()\n",
        "    HU_images_nibabel_inhale.append(img_data)"
      ]
    },
    {
      "cell_type": "code",
      "execution_count": null,
      "metadata": {
        "id": "Cw0dk1j44oY4"
      },
      "outputs": [],
      "source": [
        "#Saving the exhale images after converted to HU units\n",
        "HU_images_nibabel_exhale=[]\n",
        "for i in range(4):\n",
        "    img= nib.load(train_directory+'/'+str(i+1)+\"/HU_exhale_preprocessed_\"+str(i+1)+\".nii.gz\")\n",
        "    img_data= img.get_fdata()\n",
        "    HU_images_nibabel_exhale.append(img_data)"
      ]
    },
    {
      "cell_type": "code",
      "execution_count": null,
      "metadata": {
        "outputId": "073a05bd-c172-4242-a979-0056263d89fa",
        "id": "xYiaIdX44oY4",
        "colab": {
          "base_uri": "https://localhost:8080/",
          "height": 621
        }
      },
      "outputs": [
        {
          "output_type": "display_data",
          "data": {
            "text/plain": [
              "<Figure size 360x360 with 1 Axes>"
            ],
            "image/png": "[encoded data removed]"
          },
          "metadata": {
            "needs_background": "light"
          }
        },
        {
          "output_type": "display_data",
          "data": {
            "text/plain": [
              "<Figure size 360x360 with 1 Axes>"
            ],
            "image/png": "[encoded data removed]"
          },
          "metadata": {
            "needs_background": "light"
          }
        }
      ],
      "source": [
        "#Comparison of image after preprocessing \n",
        "slice_show(preprocessed_inhale[3],50,'Slice50 preprocessed',False)\n",
        "slice_show(HU_images_sitk_inhale[3],50,'Slice50 image preprocessed in HU scale',False)"
      ]
    },
    {
      "cell_type": "markdown",
      "metadata": {
        "id": "nFgx9j6t2zUp"
      },
      "source": [
        "## Initial results: TRE between fixed and moving image"
      ]
    },
    {
      "cell_type": "code",
      "execution_count": null,
      "metadata": {
        "id": "5QSSwBYG2zUq",
        "outputId": "bce19572-8f1c-4fc4-adb8-48e3459f71ba",
        "colab": {
          "base_uri": "https://localhost:8080/"
        }
      },
      "outputs": [
        {
          "output_type": "stream",
          "name": "stdout",
          "text": [
            "For Patient 1 The mean TRE is: 26.14727660137311 and std of TRE is: 11.337752042730125\n",
            "For Patient 2 The mean TRE is: 21.640839694139274 and std of TRE is: 6.415267547626306\n",
            "For Patient 3 The mean TRE is: 12.62588335216309 and std of TRE is: 6.381867428751379\n",
            "For Patient 4 The mean TRE is: 29.583559738904107 and std of TRE is: 12.92417092574431\n"
          ]
        }
      ],
      "source": [
        "#Computation of baseline results \n",
        "TRE_baseline=[]\n",
        "for patient in range(len(train_inhale_images)): # Accessing each patient\n",
        "  patient_mean_tre_baseline, patient_std_tre_baseline= computeTRE_MeanStd(train_inhale_landmarks[patient], train_exhale_landmarks[patient], patient_voxel_size_list[patient])\n",
        "  TRE_baseline.append([patient_mean_tre_baseline,patient_std_tre_baseline])\n",
        "  print('For Patient {} The mean TRE is: {} and std of TRE is: {}'.format(patient+1, patient_mean_tre_baseline, patient_std_tre_baseline))"
      ]
    },
    {
      "cell_type": "code",
      "execution_count": null,
      "metadata": {
        "id": "gxdDJ7VR2zUr"
      },
      "outputs": [],
      "source": [
        "def output_landmarks(patient_directory):\n",
        "  \"\"\"\n",
        "        Function to get the output landmarks from the specified file.\n",
        "        \n",
        "        Args: \n",
        "        patient_directory (str): directory of the output landmarks .txt file.\n",
        "\n",
        "        Returns: \n",
        "        output_points (list): list containing the output landmarks. \n",
        "\n",
        "   \"\"\"\n",
        "  output_points=[]\n",
        "  for files in sorted(os.listdir(patient_directory)):\n",
        "    #Searching for the output points .txt file\n",
        "    if 'outputpoints.txt' in files: \n",
        "      with open(os.path.join(patient_directory, files)) as f:\n",
        "        lines_list= f.readlines()\n",
        "        str_lines= [line.split(';') for line in lines_list]\n",
        "        #Finding the column corresponding to the output index and converting it to list\n",
        "        for i in range(len(str_lines)):\n",
        "          start_index_output= str_lines[i][3].find('[')\n",
        "          end_index_output= str_lines[i][3].find(']')\n",
        "          out_pnts= str_lines[i][3][start_index_output+1:end_index_output].split()\n",
        "          out_pnts_int= [int(x) for x in out_pnts]\n",
        "          output_points.append(out_pnts_int)\n",
        "  return output_points"
      ]
    },
    {
      "cell_type": "code",
      "execution_count": null,
      "metadata": {
        "id": "-Cwg_lRJ2zUr"
      },
      "outputs": [],
      "source": [
        "def ImageRegistrationFramework(train_inhale_images_metadata, train_exhale_images_metadata,is_file,is_several,train,mask,masks_inhale, masks_exhale,parameter_map,experiment_number):\n",
        "\n",
        "  \"\"\"\n",
        "        Function to perform image registration.\n",
        "        \n",
        "        Args: \n",
        "        train_inhale_images_metadata (sitk.Image): SimpleITK image corresponding to the inhale image.\n",
        "        train_exhale_images_metadata (sitk.Image): SimpleITK image corresponding to the exhale image.\n",
        "        is_file (bool): boolean variable used as flag. If true, registration parameter is a file. If false, default parameters are used.\n",
        "        is_several (bool): boolean variable used as flag. If true, registration parameters is a group of parameters. If false, only one parameter is used.\n",
        "        train (bool): boolean variable used as flag. If true, computation of TRE is done. \n",
        "        mask (bool): boolean variable used as flag. If true, masks are used for the registration. If false, masks are not used for the registration.\n",
        "        mask_inhale (list): segmentation mask for the inhale image.\n",
        "        mask_exhale (list): segmentation mask for the exhale image.\n",
        "        parameter_map (str, list): registration parameter map. Str if only one parameter is used, list of strings if several parameters are used. \n",
        "        experiment_number (int): number of the experiment being done. \n",
        "        Returns: \n",
        "        TRE_population (list): list with the mean TRE and std of the TRE for each of the patients. \n",
        "        transformed_landmarks_population (list): list with the transformed landmarks after doing the transformation with the transformation parameters from the registration. \n",
        "\n",
        "  \"\"\"\n",
        "\n",
        "\n",
        "  TRE_population=[]\n",
        "  transformed_landmarks_population=[]\n",
        "\n",
        "  for i in range(len(train_exhale_images)):\n",
        "    #Getting the fixed and moving image\n",
        "    current_fixed_img= train_inhale_images_metadata[i]\n",
        "    current_moving_img= train_exhale_images_metadata[i]\n",
        "    current_output_directory= train_directory+'/'+str(i+1)+'/Experiment_'+str(experiment_number)\n",
        "    #Creating the folder corresponding to the experiment being done \n",
        "    os.mkdir(current_output_directory)\n",
        "    output_registered_image= current_output_directory+'/registered_image'+str(i+1)+'.nii.gz'\n",
        "    elastixImageFilter = sitk.ElastixImageFilter()\n",
        "    if mask== True:\n",
        "      #Setting fixed and moving image, fixed and moving mask\n",
        "      elastixImageFilter.SetFixedImage(current_fixed_img)\n",
        "      elastixImageFilter.SetMovingImage(current_moving_img)\n",
        "      mask_i= sitk.Cast(sitk.GetImageFromArray(np.moveaxis(masks_inhale[i],-1,0)), sitk.sitkUInt8)\n",
        "      mask_e= sitk.Cast(sitk.GetImageFromArray(np.moveaxis(masks_exhale[i],-1,0)),sitk.sitkUInt8)\n",
        "      mask_i.CopyInformation(current_fixed_img)\n",
        "      mask_e.CopyInformation(current_moving_img)\n",
        "      \n",
        "      elastixImageFilter.SetFixedMask(mask_i)\n",
        "      elastixImageFilter.SetMovingMask(mask_e)\n",
        "    else: \n",
        "      #Setting fixed and moving image\n",
        "      elastixImageFilter.SetFixedImage(current_fixed_img)\n",
        "      elastixImageFilter.SetMovingImage(current_moving_img)\n",
        "\n",
        "    if is_file== True:\n",
        "      if is_several == True and parameter_map != None: \n",
        "        #Creation of parameter vector map\n",
        "        parameterMapVector = sitk.VectorOfParameterMap()\n",
        "        for p in parameter_map:\n",
        "          parameterMapVector.append(sitk.ReadParameterFile(p))\n",
        "        #Setting parameter map\n",
        "        elastixImageFilter.SetParameterMap(parameterMapVector)\n",
        "      elif is_several == False:\n",
        "        #Setting parameter map\n",
        "        elastixImageFilter.SetParameterMap(sitk.ReadParameterFile(parameter_map))\n",
        "      else: \n",
        "        pass \n",
        "    elif is_file==False:\n",
        "      if is_several == True and parameter_map != None:\n",
        "        #Creation of default parameter vector map\n",
        "        parameterMapVector = sitk.VectorOfParameterMap()\n",
        "        for p in parameter_map:\n",
        "          parameterMapVector.append(sitk.GetDefaultParameterMap(p))\n",
        "        #Setting parameter map\n",
        "        elastixImageFilter.SetParameterMap(parameterMapVector)\n",
        "      elif is_several == False: \n",
        "        #Setting default parameter map\n",
        "        elastixImageFilter.SetParameterMap(sitk.GetDefaultParameterMap(parameter_map))\n",
        "      else: \n",
        "        pass \n",
        "    else: \n",
        "      pass\n",
        "    #Image registration\n",
        "    elastixImageFilter.Execute()\n",
        "    transformed_parameter_map= elastixImageFilter.GetTransformParameterMap()\n",
        "    #Registered image is exported \n",
        "    sitk.WriteImage(elastixImageFilter.GetResultImage(),output_registered_image)\n",
        "    # Transformation of landmarks with the deformation map obtained in the registration\n",
        "    transformixImageFilter = sitk.TransformixImageFilter()\n",
        "\n",
        "    # Set Moving image\n",
        "    transformixImageFilter.SetMovingImage(current_moving_img)\n",
        "\n",
        "    # Set the transformation parameter map\n",
        "    transformixImageFilter.SetTransformParameterMap(transformed_parameter_map)\n",
        "\n",
        "    # Set Points to be transformed \n",
        "    transformixImageFilter.SetFixedPointSetFileName(train_directory+'/'+str(i+1)+'/copd'+str(i+1)+'_300_iBH_xyz_r1.txt')\n",
        "    transformixImageFilter.SetOutputDirectory(current_output_directory)\n",
        "    transformixImageFilter.Execute()\n",
        "\n",
        "\n",
        "    #Getting the transformed landmarks\n",
        "    transformed_landmarks= output_landmarks(current_output_directory)\n",
        "    transformed_landmarks_population.append(transformed_landmarks)\n",
        "    \n",
        "    #Calculating the TRE for the current experiment\n",
        "    if train == True:\n",
        "      patient_mean_tre, patient_std_tre = computeTRE_MeanStd(transformed_landmarks, train_exhale_landmarks[i], patient_voxel_size_list[i])\n",
        "      print(\"For experiment {}, Patient #{}, the mean TRE is: {}, and the Std of the TRE is: {}\".format(experiment_number,i+1,patient_mean_tre, patient_std_tre))\n",
        "      TRE_patient= [patient_mean_tre, patient_std_tre]\n",
        "      TRE_population.append(TRE_patient)\n",
        "    else:\n",
        "      pass \n",
        "    \n",
        "  return TRE_population, transformed_landmarks_population"
      ]
    },
    {
      "cell_type": "code",
      "execution_count": null,
      "metadata": {
        "id": "lNYwypVd2zUs"
      },
      "outputs": [],
      "source": [
        "def ComputeTREChange(TRE_baseline, TRE_new):\n",
        "\n",
        "    \"\"\"\n",
        "        Function to provide information of the \n",
        "\n",
        "        Args: \n",
        "        TRE_baseline (list): list corresponding to the baseline TRE for all patients.\n",
        "        TRE_new (list): list corresponding to the new TRE obtained after performing the registration.\n",
        "\n",
        "        Returns:\n",
        "        TRE_change (list): list corresponding to the change in TRE (difference between the baseline and new TRE)  \n",
        "\n",
        "    \"\"\"\n",
        "    TRE_change=[]\n",
        "    for i in range(len(TRE_baseline)):\n",
        "        # Computation of the difference between baseline and new TRE\n",
        "        mean_difference= TRE_baseline[i][0] - TRE_new[i][0]\n",
        "        std_difference=  TRE_baseline[i][1] - TRE_new[i][1]\n",
        "        TRE_change.append([mean_difference,std_difference])\n",
        "        percentage_mean= (np.abs(mean_difference)/TRE_baseline[i][0])*100\n",
        "        percentage_std= (np.abs(std_difference)/TRE_baseline[i][1])*100\n",
        "        #Printing of the results \n",
        "        if mean_difference > 0: \n",
        "            print(\"For Patient {}, the mean TRE (baseline-new) changed by a factor of {:.3f}, which means the metric is {:.3f} % better (lower mean TRE)\".format(i+1, mean_difference, percentage_mean))\n",
        "        elif mean_difference<0:\n",
        "            print(\"For Patient {}, the mean TRE (baseline-new) changed by a factor of {:.3f}, which means the metric is {:.3f} % worse (higher mean TRE)\".format(i+1, mean_difference, percentage_mean))\n",
        "        else:\n",
        "            print(\"For Patient {}, the mean TRE (baseline-new) did not change.\".format(i+1))\n",
        "\n",
        "        if std_difference >0:\n",
        "            print(\"For Patient {}, the std of the TRE (baseline-new) changed by a factor of {:.3f}, which means the metric is {:.3f} % better (lower std of the TRE)\".format(i+1, std_difference, percentage_std))\n",
        "        elif std_difference<0:\n",
        "            print(\"For Patient {}, the std of the TRE (baseline-new) changed by a factor of {:.3}, which means the metric is {:.3f} % worse (higher std of the TRE)\".format(i+1, std_difference, percentage_std))\n",
        "        else:\n",
        "            print(\"For Patient {}, the std of the TRE (baseline-new) did not change.\".format(i+1))\n",
        "        print(\"------------------------------------------------------------------------------------------------------------------------------------------------\")\n",
        "\n",
        "    return TRE_change\n"
      ]
    },
    {
      "cell_type": "markdown",
      "metadata": {
        "id": "cD8RHU6R2zUt"
      },
      "source": [
        "## Experiments"
      ]
    },
    {
      "cell_type": "markdown",
      "metadata": {
        "id": "atqO5Gfc2zUt"
      },
      "source": [
        "***Experiment 1: Rigid registration of images without preprocessing***"
      ]
    },
    {
      "cell_type": "code",
      "execution_count": null,
      "metadata": {
        "id": "pJ0toPS-2zUu",
        "outputId": "6c5b0088-4ddf-427b-b6f0-50a6da851fbf",
        "colab": {
          "base_uri": "https://localhost:8080/"
        }
      },
      "outputs": [
        {
          "output_type": "stream",
          "name": "stdout",
          "text": [
            "For experiment 1, Patient #1, the mean TRE is: 26.34475278093461, and the Std of the TRE is: 10.918807747609156\n",
            "For experiment 1, Patient #2, the mean TRE is: 21.80171828413886, and the Std of the TRE is: 6.294840233670735\n",
            "For experiment 1, Patient #3, the mean TRE is: 12.62588335216309, and the Std of the TRE is: 6.381867428751379\n",
            "For experiment 1, Patient #4, the mean TRE is: 26.76952825314999, and the Std of the TRE is: 12.235068098719369\n"
          ]
        }
      ],
      "source": [
        "experiment_1,_= ImageRegistrationFramework(train_inhale_images_metadata, train_exhale_images_metadata,False,False,True,False,None,None,\"rigid\",1)"
      ]
    },
    {
      "cell_type": "code",
      "execution_count": null,
      "metadata": {
        "id": "8rVMuqG42zUu",
        "outputId": "7dc4c4fe-bf47-4d40-dd51-6e4df740b6d0"
      },
      "outputs": [
        {
          "name": "stdout",
          "output_type": "stream",
          "text": [
            "For Patient 1, the mean TRE (baseline-new) changed by a factor of -0.197, which means the metric is 0.755 % worse (higher mean TRE)\n",
            "For Patient 1, the std of the TRE (baseline-new) changed by a factor of 0.419, which means the metric is 3.695 % better (lower std of the TRE)\n",
            "------------------------------------------------------------------------------------------------------------------------------------------------\n",
            "For Patient 2, the mean TRE (baseline-new) changed by a factor of -0.161, which means the metric is 0.743 % worse (higher mean TRE)\n",
            "For Patient 2, the std of the TRE (baseline-new) changed by a factor of 0.120, which means the metric is 1.877 % better (lower std of the TRE)\n",
            "------------------------------------------------------------------------------------------------------------------------------------------------\n",
            "For Patient 3, the mean TRE (baseline-new) did not change.\n",
            "For Patient 3, the std of the TRE (baseline-new) did not change.\n",
            "------------------------------------------------------------------------------------------------------------------------------------------------\n",
            "For Patient 4, the mean TRE (baseline-new) changed by a factor of 2.814, which means the metric is 9.512 % better (lower mean TRE)\n",
            "For Patient 4, the std of the TRE (baseline-new) changed by a factor of 0.689, which means the metric is 5.332 % better (lower std of the TRE)\n",
            "------------------------------------------------------------------------------------------------------------------------------------------------\n"
          ]
        }
      ],
      "source": [
        "TRE_change_e1= ComputeTREChange(TRE_baseline,experiment_1)"
      ]
    },
    {
      "cell_type": "markdown",
      "metadata": {
        "id": "ySP2TnqI2zUv"
      },
      "source": [
        "***Experiment 2: Affine registration of images without preprocessing***"
      ]
    },
    {
      "cell_type": "code",
      "execution_count": null,
      "metadata": {
        "id": "ym5OaGYG2zUv",
        "outputId": "e87f9441-6aae-429b-95e4-7c6b8203c9a0"
      },
      "outputs": [
        {
          "name": "stdout",
          "output_type": "stream",
          "text": [
            "For experiment 2, Patient #1, the mean TRE is: 25.599154967308507, and the Std of the TRE is: 11.216229016215854\n",
            "For experiment 2, Patient #2, the mean TRE is: 22.30286335741111, and the Std of the TRE is: 6.038188450938194\n",
            "For experiment 2, Patient #3, the mean TRE is: 7.74791155191238, and the Std of the TRE is: 3.3788712011979696\n",
            "For experiment 2, Patient #4, the mean TRE is: 26.0744902043448, and the Std of the TRE is: 10.167783838839037\n"
          ]
        }
      ],
      "source": [
        "experiment_2,_= ImageRegistrationFramework(train_inhale_images_metadata, train_exhale_images_metadata,False,False,True,False,None,None,\"affine\",2)"
      ]
    },
    {
      "cell_type": "code",
      "execution_count": null,
      "metadata": {
        "id": "hsGkyt5F2zUw",
        "outputId": "6fd31f2c-8a69-41f8-ef2a-e6994ccf39f5"
      },
      "outputs": [
        {
          "name": "stdout",
          "output_type": "stream",
          "text": [
            "For Patient 1, the mean TRE (baseline-new) changed by a factor of 0.548, which means the metric is 2.096 % better (lower mean TRE)\n",
            "For Patient 1, the std of the TRE (baseline-new) changed by a factor of 0.122, which means the metric is 1.072 % better (lower std of the TRE)\n",
            "------------------------------------------------------------------------------------------------------------------------------------------------\n",
            "For Patient 2, the mean TRE (baseline-new) changed by a factor of -0.662, which means the metric is 3.059 % worse (higher mean TRE)\n",
            "For Patient 2, the std of the TRE (baseline-new) changed by a factor of 0.377, which means the metric is 5.878 % better (lower std of the TRE)\n",
            "------------------------------------------------------------------------------------------------------------------------------------------------\n",
            "For Patient 3, the mean TRE (baseline-new) changed by a factor of 4.878, which means the metric is 38.635 % better (lower mean TRE)\n",
            "For Patient 3, the std of the TRE (baseline-new) changed by a factor of 3.003, which means the metric is 47.055 % better (lower std of the TRE)\n",
            "------------------------------------------------------------------------------------------------------------------------------------------------\n",
            "For Patient 4, the mean TRE (baseline-new) changed by a factor of 3.509, which means the metric is 11.862 % better (lower mean TRE)\n",
            "For Patient 4, the std of the TRE (baseline-new) changed by a factor of 2.756, which means the metric is 21.327 % better (lower std of the TRE)\n",
            "------------------------------------------------------------------------------------------------------------------------------------------------\n"
          ]
        }
      ],
      "source": [
        "TRE_change_e2= ComputeTREChange(TRE_baseline,experiment_2)"
      ]
    },
    {
      "cell_type": "markdown",
      "metadata": {
        "id": "4dQMpnTM2zUw"
      },
      "source": [
        "***Experiment 3: Non-Rigid registration of images without preprocessing***"
      ]
    },
    {
      "cell_type": "code",
      "execution_count": null,
      "metadata": {
        "id": "9pxBMWv52zUx",
        "outputId": "2944a281-e2af-4e5b-eac8-333d59f4c5d5"
      },
      "outputs": [
        {
          "name": "stdout",
          "output_type": "stream",
          "text": [
            "For experiment 3, Patient #1, the mean TRE is: 23.29546549199486, and the Std of the TRE is: 11.176898780588198\n",
            "For experiment 3, Patient #2, the mean TRE is: 19.73621273377082, and the Std of the TRE is: 6.403209269925713\n",
            "For experiment 3, Patient #3, the mean TRE is: 5.5335311934683995, and the Std of the TRE is: 3.829985411532637\n",
            "For experiment 3, Patient #4, the mean TRE is: 24.241282484815727, and the Std of the TRE is: 9.68054041974002\n"
          ]
        }
      ],
      "source": [
        "experiment_3,_= ImageRegistrationFramework(train_inhale_images_metadata, train_exhale_images_metadata,False,True,True,False,None,None,[\"affine\",\"bspline\"],3)"
      ]
    },
    {
      "cell_type": "code",
      "execution_count": null,
      "metadata": {
        "id": "KYKtd7C42zUx",
        "outputId": "57947351-8fc2-4ff6-d4eb-57d1562e1681"
      },
      "outputs": [
        {
          "name": "stdout",
          "output_type": "stream",
          "text": [
            "For Patient 1, the mean TRE (baseline-new) changed by a factor of 2.852, which means the metric is 10.907 % better (lower mean TRE)\n",
            "For Patient 1, the std of the TRE (baseline-new) changed by a factor of 0.161, which means the metric is 1.419 % better (lower std of the TRE)\n",
            "------------------------------------------------------------------------------------------------------------------------------------------------\n",
            "For Patient 2, the mean TRE (baseline-new) changed by a factor of 1.905, which means the metric is 8.801 % better (lower mean TRE)\n",
            "For Patient 2, the std of the TRE (baseline-new) changed by a factor of 0.012, which means the metric is 0.188 % better (lower std of the TRE)\n",
            "------------------------------------------------------------------------------------------------------------------------------------------------\n",
            "For Patient 3, the mean TRE (baseline-new) changed by a factor of 7.092, which means the metric is 56.173 % better (lower mean TRE)\n",
            "For Patient 3, the std of the TRE (baseline-new) changed by a factor of 2.552, which means the metric is 39.986 % better (lower std of the TRE)\n",
            "------------------------------------------------------------------------------------------------------------------------------------------------\n",
            "For Patient 4, the mean TRE (baseline-new) changed by a factor of 5.342, which means the metric is 18.058 % better (lower mean TRE)\n",
            "For Patient 4, the std of the TRE (baseline-new) changed by a factor of 3.244, which means the metric is 25.097 % better (lower std of the TRE)\n",
            "------------------------------------------------------------------------------------------------------------------------------------------------\n"
          ]
        }
      ],
      "source": [
        "TRE_change_e3= ComputeTREChange(TRE_baseline,experiment_3)"
      ]
    },
    {
      "cell_type": "markdown",
      "metadata": {
        "id": "uBSKToRR2zUx"
      },
      "source": [
        "***Experiment 4: Translation - Affine - Bspline registration of images without preprocessing***"
      ]
    },
    {
      "cell_type": "code",
      "execution_count": null,
      "metadata": {
        "id": "o1rywOIM2zUy",
        "outputId": "e1515876-d2f0-47ab-9456-e561c1d7097e"
      },
      "outputs": [
        {
          "name": "stdout",
          "output_type": "stream",
          "text": [
            "For experiment 4, Patient #1, the mean TRE is: 22.933809350653675, and the Std of the TRE is: 10.87447668154223\n",
            "For experiment 4, Patient #2, the mean TRE is: 19.005691660740133, and the Std of the TRE is: 6.497829662227371\n",
            "For experiment 4, Patient #3, the mean TRE is: 5.162804742926866, and the Std of the TRE is: 3.69660925140912\n",
            "For experiment 4, Patient #4, the mean TRE is: 21.812840431178568, and the Std of the TRE is: 9.064928269090599\n"
          ]
        }
      ],
      "source": [
        "experiment_4,_= ImageRegistrationFramework(train_inhale_images_metadata, train_exhale_images_metadata,None,None,True,None,None,None,None,4)"
      ]
    },
    {
      "cell_type": "code",
      "execution_count": null,
      "metadata": {
        "id": "ZXEXmN3a2zUy",
        "outputId": "9d894115-d540-4646-cd0f-ed3a8af280a2"
      },
      "outputs": [
        {
          "name": "stdout",
          "output_type": "stream",
          "text": [
            "For Patient 1, the mean TRE (baseline-new) changed by a factor of 3.213, which means the metric is 12.290 % better (lower mean TRE)\n",
            "For Patient 1, the std of the TRE (baseline-new) changed by a factor of 0.463, which means the metric is 4.086 % better (lower std of the TRE)\n",
            "------------------------------------------------------------------------------------------------------------------------------------------------\n",
            "For Patient 2, the mean TRE (baseline-new) changed by a factor of 2.635, which means the metric is 12.177 % better (lower mean TRE)\n",
            "For Patient 2, the std of the TRE (baseline-new) changed by a factor of -0.0826, which means the metric is 1.287 % worse (higher std of the TRE)\n",
            "------------------------------------------------------------------------------------------------------------------------------------------------\n",
            "For Patient 3, the mean TRE (baseline-new) changed by a factor of 7.463, which means the metric is 59.109 % better (lower mean TRE)\n",
            "For Patient 3, the std of the TRE (baseline-new) changed by a factor of 2.685, which means the metric is 42.076 % better (lower std of the TRE)\n",
            "------------------------------------------------------------------------------------------------------------------------------------------------\n",
            "For Patient 4, the mean TRE (baseline-new) changed by a factor of 7.771, which means the metric is 26.267 % better (lower mean TRE)\n",
            "For Patient 4, the std of the TRE (baseline-new) changed by a factor of 3.859, which means the metric is 29.861 % better (lower std of the TRE)\n",
            "------------------------------------------------------------------------------------------------------------------------------------------------\n"
          ]
        }
      ],
      "source": [
        "TRE_change_e4= ComputeTREChange(TRE_baseline,experiment_4)"
      ]
    },
    {
      "cell_type": "markdown",
      "metadata": {
        "id": "BU6U5NDg2zUz"
      },
      "source": [
        "***Experiment 5: Rigid registration of images with preprocessing***"
      ]
    },
    {
      "cell_type": "code",
      "execution_count": null,
      "metadata": {
        "id": "sMwg_BHI2zUz",
        "outputId": "0ec10a96-13b5-49ee-cf4b-3be3bb2b2684"
      },
      "outputs": [
        {
          "name": "stdout",
          "output_type": "stream",
          "text": [
            "For experiment 5, Patient #1, the mean TRE is: 25.240213409015613, and the Std of the TRE is: 11.038718766881003\n",
            "For experiment 5, Patient #2, the mean TRE is: 20.444695137829022, and the Std of the TRE is: 6.367366423931781\n",
            "For experiment 5, Patient #3, the mean TRE is: 12.436362796720848, and the Std of the TRE is: 6.505858353833313\n",
            "For experiment 5, Patient #4, the mean TRE is: 25.620649598114984, and the Std of the TRE is: 11.729913400714885\n"
          ]
        }
      ],
      "source": [
        "experiment_5,_= ImageRegistrationFramework(preprocessed_inhale_metadata, preprocessed_exhale_metadata,False,False,True,False,None,None,\"rigid\",5)"
      ]
    },
    {
      "cell_type": "code",
      "execution_count": null,
      "metadata": {
        "id": "Z8t1R7z22zUz",
        "outputId": "3ac561c5-4d38-4aca-8394-716424752b4d"
      },
      "outputs": [
        {
          "name": "stdout",
          "output_type": "stream",
          "text": [
            "For Patient 1, the mean TRE (baseline-new) changed by a factor of 0.907, which means the metric is 3.469 % better (lower mean TRE)\n",
            "For Patient 1, the std of the TRE (baseline-new) changed by a factor of 0.299, which means the metric is 2.638 % better (lower std of the TRE)\n",
            "------------------------------------------------------------------------------------------------------------------------------------------------\n",
            "For Patient 2, the mean TRE (baseline-new) changed by a factor of 1.196, which means the metric is 5.527 % better (lower mean TRE)\n",
            "For Patient 2, the std of the TRE (baseline-new) changed by a factor of 0.048, which means the metric is 0.747 % better (lower std of the TRE)\n",
            "------------------------------------------------------------------------------------------------------------------------------------------------\n",
            "For Patient 3, the mean TRE (baseline-new) changed by a factor of 0.190, which means the metric is 1.501 % better (lower mean TRE)\n",
            "For Patient 3, the std of the TRE (baseline-new) changed by a factor of -0.124, which means the metric is 1.943 % worse (higher std of the TRE)\n",
            "------------------------------------------------------------------------------------------------------------------------------------------------\n",
            "For Patient 4, the mean TRE (baseline-new) changed by a factor of 3.963, which means the metric is 13.396 % better (lower mean TRE)\n",
            "For Patient 4, the std of the TRE (baseline-new) changed by a factor of 1.194, which means the metric is 9.240 % better (lower std of the TRE)\n",
            "------------------------------------------------------------------------------------------------------------------------------------------------\n"
          ]
        }
      ],
      "source": [
        "TRE_change_e5= ComputeTREChange(TRE_baseline,experiment_5)"
      ]
    },
    {
      "cell_type": "markdown",
      "metadata": {
        "id": "AAil6mJU2zU0"
      },
      "source": [
        "***Experiment 6: Affine registration of images with preprocessing***"
      ]
    },
    {
      "cell_type": "code",
      "execution_count": null,
      "metadata": {
        "id": "0o09nqGp2zU0",
        "outputId": "9b2dc372-d2fb-400b-9398-440e7e0fdfef"
      },
      "outputs": [
        {
          "name": "stdout",
          "output_type": "stream",
          "text": [
            "For experiment 6, Patient #1, the mean TRE is: 12.958503419636212, and the Std of the TRE is: 5.901608211755338\n",
            "For experiment 6, Patient #2, the mean TRE is: 18.78132060696999, and the Std of the TRE is: 5.054536774080728\n",
            "For experiment 6, Patient #3, the mean TRE is: 5.357932364403884, and the Std of the TRE is: 3.2573493831672353\n",
            "For experiment 6, Patient #4, the mean TRE is: 20.009615526377402, and the Std of the TRE is: 6.1486187198588045\n"
          ]
        }
      ],
      "source": [
        "experiment_6,_= ImageRegistrationFramework(preprocessed_inhale_metadata, preprocessed_exhale_metadata,False,False,True,False,None,None,\"affine\",6)"
      ]
    },
    {
      "cell_type": "code",
      "execution_count": null,
      "metadata": {
        "id": "ZDc5tG3-2zU1",
        "outputId": "483510ac-6666-4e57-aa5e-7e58812f1e7d"
      },
      "outputs": [
        {
          "name": "stdout",
          "output_type": "stream",
          "text": [
            "For Patient 1, the mean TRE (baseline-new) changed by a factor of 13.189, which means the metric is 50.440 % better (lower mean TRE)\n",
            "For Patient 1, the std of the TRE (baseline-new) changed by a factor of 5.436, which means the metric is 47.947 % better (lower std of the TRE)\n",
            "------------------------------------------------------------------------------------------------------------------------------------------------\n",
            "For Patient 2, the mean TRE (baseline-new) changed by a factor of 2.860, which means the metric is 13.214 % better (lower mean TRE)\n",
            "For Patient 2, the std of the TRE (baseline-new) changed by a factor of 1.361, which means the metric is 21.211 % better (lower std of the TRE)\n",
            "------------------------------------------------------------------------------------------------------------------------------------------------\n",
            "For Patient 3, the mean TRE (baseline-new) changed by a factor of 7.268, which means the metric is 57.564 % better (lower mean TRE)\n",
            "For Patient 3, the std of the TRE (baseline-new) changed by a factor of 3.125, which means the metric is 48.959 % better (lower std of the TRE)\n",
            "------------------------------------------------------------------------------------------------------------------------------------------------\n",
            "For Patient 4, the mean TRE (baseline-new) changed by a factor of 9.574, which means the metric is 32.362 % better (lower mean TRE)\n",
            "For Patient 4, the std of the TRE (baseline-new) changed by a factor of 6.776, which means the metric is 52.425 % better (lower std of the TRE)\n",
            "------------------------------------------------------------------------------------------------------------------------------------------------\n"
          ]
        }
      ],
      "source": [
        "TRE_change_e6= ComputeTREChange(TRE_baseline,experiment_6)"
      ]
    },
    {
      "cell_type": "markdown",
      "metadata": {
        "id": "Ywq8oEqP2zU1"
      },
      "source": [
        "***Experiment 7: Non-rigid registration of images with preprocessing***"
      ]
    },
    {
      "cell_type": "code",
      "execution_count": null,
      "metadata": {
        "id": "1wye1XsM2zU1",
        "outputId": "ce20c7c2-7fea-4d06-e880-ea84f423e602"
      },
      "outputs": [
        {
          "name": "stdout",
          "output_type": "stream",
          "text": [
            "For experiment 7, Patient #1, the mean TRE is: 9.168537120592179, and the Std of the TRE is: 6.158983628612048\n",
            "For experiment 7, Patient #2, the mean TRE is: 15.753418609914657, and the Std of the TRE is: 5.795905769451373\n",
            "For experiment 7, Patient #3, the mean TRE is: 3.6243843305748102, and the Std of the TRE is: 3.128047091533606\n",
            "For experiment 7, Patient #4, the mean TRE is: 15.838884746557202, and the Std of the TRE is: 4.822751577471746\n"
          ]
        }
      ],
      "source": [
        "experiment_7,_= ImageRegistrationFramework(preprocessed_inhale_metadata, preprocessed_exhale_metadata,False,True,True,False,None,None,[\"affine\",\"bspline\"],7)"
      ]
    },
    {
      "cell_type": "code",
      "execution_count": null,
      "metadata": {
        "id": "qSX2kK6c2zU2",
        "outputId": "5acc188e-e0d3-4393-c798-37ab3d972fd6"
      },
      "outputs": [
        {
          "name": "stdout",
          "output_type": "stream",
          "text": [
            "For Patient 1, the mean TRE (baseline-new) changed by a factor of 16.979, which means the metric is 64.935 % better (lower mean TRE)\n",
            "For Patient 1, the std of the TRE (baseline-new) changed by a factor of 5.179, which means the metric is 45.677 % better (lower std of the TRE)\n",
            "------------------------------------------------------------------------------------------------------------------------------------------------\n",
            "For Patient 2, the mean TRE (baseline-new) changed by a factor of 5.887, which means the metric is 27.205 % better (lower mean TRE)\n",
            "For Patient 2, the std of the TRE (baseline-new) changed by a factor of 0.619, which means the metric is 9.654 % better (lower std of the TRE)\n",
            "------------------------------------------------------------------------------------------------------------------------------------------------\n",
            "For Patient 3, the mean TRE (baseline-new) changed by a factor of 9.001, which means the metric is 71.294 % better (lower mean TRE)\n",
            "For Patient 3, the std of the TRE (baseline-new) changed by a factor of 3.254, which means the metric is 50.985 % better (lower std of the TRE)\n",
            "------------------------------------------------------------------------------------------------------------------------------------------------\n",
            "For Patient 4, the mean TRE (baseline-new) changed by a factor of 13.745, which means the metric is 46.461 % better (lower mean TRE)\n",
            "For Patient 4, the std of the TRE (baseline-new) changed by a factor of 8.101, which means the metric is 62.684 % better (lower std of the TRE)\n",
            "------------------------------------------------------------------------------------------------------------------------------------------------\n"
          ]
        }
      ],
      "source": [
        "TRE_change_e7= ComputeTREChange(TRE_baseline,experiment_7)"
      ]
    },
    {
      "cell_type": "markdown",
      "metadata": {
        "id": "D8j2R9Ir2zU2"
      },
      "source": [
        "***Experiment 8: Translation-Affine-Bspline registration of images with preprocessing***"
      ]
    },
    {
      "cell_type": "code",
      "execution_count": null,
      "metadata": {
        "id": "V-FpVOHK2zU3",
        "outputId": "c6cec551-f358-4c0d-a7ae-b5c6781af955"
      },
      "outputs": [
        {
          "name": "stdout",
          "output_type": "stream",
          "text": [
            "For experiment 8, Patient #1, the mean TRE is: 7.925093534533562, and the Std of the TRE is: 6.268551916038443\n",
            "For experiment 8, Patient #2, the mean TRE is: 14.851154206684829, and the Std of the TRE is: 5.82945692514785\n",
            "For experiment 8, Patient #3, the mean TRE is: 3.4065448455980696, and the Std of the TRE is: 2.8526422724578\n",
            "For experiment 8, Patient #4, the mean TRE is: 14.228954739901898, and the Std of the TRE is: 5.026735634218198\n"
          ]
        }
      ],
      "source": [
        "experiment_8,_= ImageRegistrationFramework(preprocessed_inhale_metadata, preprocessed_exhale_metadata,None,None,True,None,None,None,None,81)"
      ]
    },
    {
      "cell_type": "code",
      "execution_count": null,
      "metadata": {
        "id": "d7TPHgZ_2zU3",
        "outputId": "cec9f158-e60d-4a14-917c-3eeb274eb452"
      },
      "outputs": [
        {
          "name": "stdout",
          "output_type": "stream",
          "text": [
            "For Patient 1, the mean TRE (baseline-new) changed by a factor of 18.222, which means the metric is 69.691 % better (lower mean TRE)\n",
            "For Patient 1, the std of the TRE (baseline-new) changed by a factor of 5.069, which means the metric is 44.711 % better (lower std of the TRE)\n",
            "------------------------------------------------------------------------------------------------------------------------------------------------\n",
            "For Patient 2, the mean TRE (baseline-new) changed by a factor of 6.790, which means the metric is 31.374 % better (lower mean TRE)\n",
            "For Patient 2, the std of the TRE (baseline-new) changed by a factor of 0.586, which means the metric is 9.132 % better (lower std of the TRE)\n",
            "------------------------------------------------------------------------------------------------------------------------------------------------\n",
            "For Patient 3, the mean TRE (baseline-new) changed by a factor of 9.219, which means the metric is 73.019 % better (lower mean TRE)\n",
            "For Patient 3, the std of the TRE (baseline-new) changed by a factor of 3.529, which means the metric is 55.301 % better (lower std of the TRE)\n",
            "------------------------------------------------------------------------------------------------------------------------------------------------\n",
            "For Patient 4, the mean TRE (baseline-new) changed by a factor of 15.355, which means the metric is 51.902 % better (lower mean TRE)\n",
            "For Patient 4, the std of the TRE (baseline-new) changed by a factor of 7.897, which means the metric is 61.106 % better (lower std of the TRE)\n",
            "------------------------------------------------------------------------------------------------------------------------------------------------\n"
          ]
        }
      ],
      "source": [
        "TRE_change_e8= ComputeTREChange(TRE_baseline,experiment_8)"
      ]
    },
    {
      "cell_type": "markdown",
      "metadata": {
        "id": "9oSaNvRB2zU3"
      },
      "source": [
        "***Experiment 9: Parameters 54 + Image with preprocessing***"
      ]
    },
    {
      "cell_type": "code",
      "execution_count": null,
      "metadata": {
        "id": "4ML0Lv3k2zU4",
        "outputId": "50da5f44-eff7-430b-f2cd-e273d3f6c914"
      },
      "outputs": [
        {
          "name": "stdout",
          "output_type": "stream",
          "text": [
            "For experiment 9, Patient #1, the mean TRE is: 15.095118173027604, and the Std of the TRE is: 9.863288339828998\n",
            "For experiment 9, Patient #2, the mean TRE is: 12.904263868355848, and the Std of the TRE is: 6.025574008675871\n",
            "For experiment 9, Patient #3, the mean TRE is: 5.056719914684595, and the Std of the TRE is: 3.7544450572788195\n",
            "For experiment 9, Patient #4, the mean TRE is: 18.42033701298861, and the Std of the TRE is: 8.20468808980319\n"
          ]
        }
      ],
      "source": [
        "experiment_9,_= ImageRegistrationFramework(preprocessed_inhale_metadata, preprocessed_exhale_metadata,True,False,True,False,None,None,\"C:\\\\FP\\\\Par0054_sstvd.txt\",9)"
      ]
    },
    {
      "cell_type": "code",
      "execution_count": null,
      "metadata": {
        "id": "D4xpk0N72zU4",
        "outputId": "f11dd98a-df71-4a78-f8c4-a7ac08041d40"
      },
      "outputs": [
        {
          "name": "stdout",
          "output_type": "stream",
          "text": [
            "For Patient 1, the mean TRE (baseline-new) changed by a factor of 11.052, which means the metric is 42.269 % better (lower mean TRE)\n",
            "For Patient 1, the std of the TRE (baseline-new) changed by a factor of 1.474, which means the metric is 13.005 % better (lower std of the TRE)\n",
            "------------------------------------------------------------------------------------------------------------------------------------------------\n",
            "For Patient 2, the mean TRE (baseline-new) changed by a factor of 8.737, which means the metric is 40.371 % better (lower mean TRE)\n",
            "For Patient 2, the std of the TRE (baseline-new) changed by a factor of 0.390, which means the metric is 6.074 % better (lower std of the TRE)\n",
            "------------------------------------------------------------------------------------------------------------------------------------------------\n",
            "For Patient 3, the mean TRE (baseline-new) changed by a factor of 7.569, which means the metric is 59.950 % better (lower mean TRE)\n",
            "For Patient 3, the std of the TRE (baseline-new) changed by a factor of 2.627, which means the metric is 41.170 % better (lower std of the TRE)\n",
            "------------------------------------------------------------------------------------------------------------------------------------------------\n",
            "For Patient 4, the mean TRE (baseline-new) changed by a factor of 11.163, which means the metric is 37.735 % better (lower mean TRE)\n",
            "For Patient 4, the std of the TRE (baseline-new) changed by a factor of 4.719, which means the metric is 36.517 % better (lower std of the TRE)\n",
            "------------------------------------------------------------------------------------------------------------------------------------------------\n"
          ]
        }
      ],
      "source": [
        "TRE_change_e9= ComputeTREChange(TRE_baseline,experiment_9)"
      ]
    },
    {
      "cell_type": "markdown",
      "metadata": {
        "id": "TUy7g5y-2zU4"
      },
      "source": [
        "***Experiment 10: Parameters 15 + Image with preprocessing***"
      ]
    },
    {
      "cell_type": "code",
      "execution_count": null,
      "metadata": {
        "id": "GtXVNR7_2zU5",
        "outputId": "54345505-f1ca-40dc-c071-f499876b3ee8"
      },
      "outputs": [
        {
          "name": "stdout",
          "output_type": "stream",
          "text": [
            "For experiment 10, Patient #1, the mean TRE is: 6.842275360690828, and the Std of the TRE is: 4.322588631908815\n",
            "For experiment 10, Patient #2, the mean TRE is: 10.401896891366539, and the Std of the TRE is: 6.949360332231987\n",
            "For experiment 10, Patient #3, the mean TRE is: 4.551643265941302, and the Std of the TRE is: 3.8437070647729934\n",
            "For experiment 10, Patient #4, the mean TRE is: 7.3275958758307915, and the Std of the TRE is: 4.696298567766925\n"
          ]
        }
      ],
      "source": [
        "experiment_10,_= ImageRegistrationFramework(preprocessed_inhale_metadata, preprocessed_exhale_metadata,True,True,True,False,None,None,[\"C:\\\\FP\\\\Parameters.Par0015.expA.patient.NC.affine.txt\",\"C:\\\\FP\\\\Parameters.Par0015.expA.patient.NC.bspline.txt\"],101)"
      ]
    },
    {
      "cell_type": "code",
      "execution_count": null,
      "metadata": {
        "id": "bTdnO4Bv2zU5",
        "outputId": "3a1f698e-4125-4a5c-fc7c-db755af0da0c"
      },
      "outputs": [
        {
          "name": "stdout",
          "output_type": "stream",
          "text": [
            "For Patient 1, the mean TRE (baseline-new) changed by a factor of 19.305, which means the metric is 73.832 % better (lower mean TRE)\n",
            "For Patient 1, the std of the TRE (baseline-new) changed by a factor of 7.015, which means the metric is 61.874 % better (lower std of the TRE)\n",
            "------------------------------------------------------------------------------------------------------------------------------------------------\n",
            "For Patient 2, the mean TRE (baseline-new) changed by a factor of 11.239, which means the metric is 51.934 % better (lower mean TRE)\n",
            "For Patient 2, the std of the TRE (baseline-new) changed by a factor of -0.534, which means the metric is 8.325 % worse (higher std of the TRE)\n",
            "------------------------------------------------------------------------------------------------------------------------------------------------\n",
            "For Patient 3, the mean TRE (baseline-new) changed by a factor of 8.074, which means the metric is 63.950 % better (lower mean TRE)\n",
            "For Patient 3, the std of the TRE (baseline-new) changed by a factor of 2.538, which means the metric is 39.771 % better (lower std of the TRE)\n",
            "------------------------------------------------------------------------------------------------------------------------------------------------\n",
            "For Patient 4, the mean TRE (baseline-new) changed by a factor of 22.256, which means the metric is 75.231 % better (lower mean TRE)\n",
            "For Patient 4, the std of the TRE (baseline-new) changed by a factor of 8.228, which means the metric is 63.663 % better (lower std of the TRE)\n",
            "------------------------------------------------------------------------------------------------------------------------------------------------\n"
          ]
        }
      ],
      "source": [
        "TRE_change_e10= ComputeTREChange(TRE_baseline,experiment_10)"
      ]
    },
    {
      "cell_type": "markdown",
      "metadata": {
        "id": "h2-oHN4u2zU5"
      },
      "source": [
        "## Segmentation of the lungs"
      ]
    },
    {
      "cell_type": "code",
      "execution_count": null,
      "metadata": {
        "id": "kdraiXfg2zU_"
      },
      "outputs": [],
      "source": [
        "def LungSegmentation(input_image):\n",
        "\n",
        "    \"\"\"\n",
        "        Function to perform lung segmentation\n",
        "\n",
        "        Inputs:\n",
        "        input_image (np.ndarray): 3D numpy array corresponding to the input image from which to perform lung segmentation. \n",
        "\n",
        "        Returns:\n",
        "        segmented_lung (np.ndarray): 3D numpy array corresponding to a binary image with the lungs segmentation. \n",
        "\n",
        "    \"\"\"\n",
        "    #Initial threshold of the image according to typical range of HU values for the lungs\n",
        "    threshold_image= input_image< -600\n",
        "    #Clearing borders (bone not corresponding to the lungs area)\n",
        "    for slices in range(threshold_image.shape[2]):\n",
        "        threshold_image[:,:,slices] = threshold_image[:,:,slices]\n",
        "        threshold_image[:,:,slices] = clear_border(threshold_image[:,:,slices])\n",
        "    #Getting image properties and ordering them by area\n",
        "    lung_labels= measure.label(threshold_image)\n",
        "    lung_regions_props = measure.regionprops(lung_labels)\n",
        "    lung_regions_props.sort(key = lambda region: region.area)\n",
        "    #Keeping largest area regions (corresponding to the lung)\n",
        "    for region in lung_regions_props[:-1]:\n",
        "        coordinates = tuple([tuple(k) for k in region.coords.transpose()])\n",
        "        lung_labels[coordinates] = 0\n",
        "    segmented_lung = lung_labels > 0\n",
        "    segmented_lung = 1*segmented_lung\n",
        "\n",
        "    return segmented_lung\n"
      ]
    },
    {
      "cell_type": "code",
      "execution_count": null,
      "metadata": {
        "id": "vVr6O7T-2zVA"
      },
      "outputs": [],
      "source": [
        "#Creation of the inhale and exhale lung image masks \n",
        "masks_inhale=[]\n",
        "masks_exhale=[]\n",
        "for i in range(4):\n",
        "    masks_inhale.append(LungSegmentation(HU_images_sitk_inhale[i]))\n",
        "    masks_exhale.append(LungSegmentation(HU_images_sitk_exhale[i]))\n"
      ]
    },
    {
      "cell_type": "code",
      "source": [
        "def output_transformed_landmarks(transformed_marks_directory, output_landmarks_vector):\n",
        "  \"\"\"\n",
        "        Function to output a .txt file with the transformed lanmarks points indexes \n",
        "\n",
        "        Inputs:\n",
        "        transformed_marks_directory (str): directory where the file will be saved\n",
        "        output_landmarks_vector (list): list with the landmarks indexes \n",
        "\n",
        "        After the function is executed, the .txt file with the transformed lanmarks is generated.    \n",
        "  \"\"\"\n",
        "  #Writing the .txt file with all the vectors of output points separating the points with a space. \n",
        "  with open(transformed_marks_directory, 'w') as f:\n",
        "    for points in output_landmarks_vector:\n",
        "      f.write(' '.join(map(str,points))+'\\n')\n",
        "    "
      ],
      "metadata": {
        "id": "1Yy7SJIAs_ng"
      },
      "execution_count": null,
      "outputs": []
    },
    {
      "cell_type": "markdown",
      "source": [
        "# More experiments using segmentation masks"
      ],
      "metadata": {
        "id": "qVpyxWGvrkL6"
      }
    },
    {
      "cell_type": "markdown",
      "source": [
        "***Experiment 11: Registration parameters 15, images with preprocessing and using segmentation masks***"
      ],
      "metadata": {
        "id": "OW02qO0lrwPB"
      }
    },
    {
      "cell_type": "code",
      "execution_count": null,
      "metadata": {
        "id": "NRFvFg_g2zVB",
        "outputId": "6ad3ffc7-c101-4d71-aa06-18a9981d2b30",
        "colab": {
          "base_uri": "https://localhost:8080/"
        }
      },
      "outputs": [
        {
          "output_type": "stream",
          "name": "stdout",
          "text": [
            "For experiment 11, Patient #1, the mean TRE is: 3.008675136626938, and the Std of the TRE is: 4.128387685602792\n",
            "For experiment 11, Patient #2, the mean TRE is: 2.9700598000398495, and the Std of the TRE is: 3.7954034137181245\n",
            "For experiment 11, Patient #3, the mean TRE is: 1.1981279504494118, and the Std of the TRE is: 0.9763184290221866\n",
            "For experiment 11, Patient #4, the mean TRE is: 1.718008241713798, and the Std of the TRE is: 1.3475130715433843\n"
          ]
        }
      ],
      "source": [
        "experiment_11, output_landmarks_11= ImageRegistrationFramework(preprocessed_inhale_metadata, preprocessed_exhale_metadata,True,True,True,True,masks_inhale,masks_exhale,[parameters_directory+\"/015/Parameters.Par0015.expA.patient.NC.affine.txt\",parameters_directory+\"/015/Parameters.Par0015.expA.patient.NC.bspline.txt\"],11)"
      ]
    },
    {
      "cell_type": "code",
      "execution_count": null,
      "metadata": {
        "id": "IeLYt-UW2zVB",
        "outputId": "4f3917d4-7ba6-477b-ad82-3361b7f89044",
        "colab": {
          "base_uri": "https://localhost:8080/"
        }
      },
      "outputs": [
        {
          "output_type": "stream",
          "name": "stdout",
          "text": [
            "For Patient 1, the mean TRE (baseline-new) changed by a factor of 23.139, which means the metric is 88.493 % better (lower mean TRE)\n",
            "For Patient 1, the std of the TRE (baseline-new) changed by a factor of 7.209, which means the metric is 63.587 % better (lower std of the TRE)\n",
            "------------------------------------------------------------------------------------------------------------------------------------------------\n",
            "For Patient 2, the mean TRE (baseline-new) changed by a factor of 18.671, which means the metric is 86.276 % better (lower mean TRE)\n",
            "For Patient 2, the std of the TRE (baseline-new) changed by a factor of 2.620, which means the metric is 40.838 % better (lower std of the TRE)\n",
            "------------------------------------------------------------------------------------------------------------------------------------------------\n",
            "For Patient 3, the mean TRE (baseline-new) changed by a factor of 11.428, which means the metric is 90.511 % better (lower mean TRE)\n",
            "For Patient 3, the std of the TRE (baseline-new) changed by a factor of 5.406, which means the metric is 84.702 % better (lower std of the TRE)\n",
            "------------------------------------------------------------------------------------------------------------------------------------------------\n",
            "For Patient 4, the mean TRE (baseline-new) changed by a factor of 27.866, which means the metric is 94.193 % better (lower mean TRE)\n",
            "For Patient 4, the std of the TRE (baseline-new) changed by a factor of 11.577, which means the metric is 89.574 % better (lower std of the TRE)\n",
            "------------------------------------------------------------------------------------------------------------------------------------------------\n"
          ]
        }
      ],
      "source": [
        "TRE_change_e11= ComputeTREChange(TRE_baseline,experiment_11)"
      ]
    },
    {
      "cell_type": "code",
      "source": [
        "print(\"The mean TRE of all patients of the population is\", np.mean(np.array(experiment_11),axis=0)[0], \"and the mean std is \", np.mean(np.array(experiment_11),axis=0)[1])"
      ],
      "metadata": {
        "colab": {
          "base_uri": "https://localhost:8080/"
        },
        "id": "pB6m65GJ_qD8",
        "outputId": "d5d33a19-5039-4bed-ced9-9cbac0ff327c"
      },
      "execution_count": null,
      "outputs": [
        {
          "output_type": "stream",
          "name": "stdout",
          "text": [
            "The mean TRE of all patients of the population is 2.2237177822074994 and the mean std is  2.5619056499716217\n"
          ]
        }
      ]
    },
    {
      "cell_type": "markdown",
      "source": [
        "***Experiment 12: Registration parameters 35, images with preprocessing and using segmentation masks***"
      ],
      "metadata": {
        "id": "8IQ8qDXkr7os"
      }
    },
    {
      "cell_type": "code",
      "execution_count": null,
      "metadata": {
        "id": "t6D8mQTn2zVC",
        "outputId": "44ed2e0a-1769-468b-b846-4fff51ba91b9",
        "colab": {
          "base_uri": "https://localhost:8080/"
        }
      },
      "outputs": [
        {
          "output_type": "stream",
          "name": "stdout",
          "text": [
            "For experiment 12, Patient #1, the mean TRE is: 1.7542132316407462, and the Std of the TRE is: 2.6089655693220415\n",
            "For experiment 12, Patient #2, the mean TRE is: 4.181886844260821, and the Std of the TRE is: 5.035501467401524\n",
            "For experiment 12, Patient #3, the mean TRE is: 1.1914126960100526, and the Std of the TRE is: 1.0503701147198163\n",
            "For experiment 12, Patient #4, the mean TRE is: 4.846299778793719, and the Std of the TRE is: 8.44709987012146\n"
          ]
        }
      ],
      "source": [
        "experiment_12, output_landmarks_12= ImageRegistrationFramework(preprocessed_inhale_metadata, preprocessed_exhale_metadata,True,True,True,True,masks_inhale,masks_exhale,[parameters_directory+\"/035/Par0035.SPREAD.MI.af.0.txt\",parameters_directory+\"/035/Par0035.SPREAD.MI.bs.1.ASGD.txt\"],12)"
      ]
    },
    {
      "cell_type": "code",
      "source": [
        "TRE_change_e12= ComputeTREChange(TRE_baseline,experiment_12)"
      ],
      "metadata": {
        "colab": {
          "base_uri": "https://localhost:8080/"
        },
        "id": "XTYjuaG4zcLP",
        "outputId": "84be2007-2a8c-4db5-9773-6cf326b06cea"
      },
      "execution_count": null,
      "outputs": [
        {
          "output_type": "stream",
          "name": "stdout",
          "text": [
            "For Patient 1, the mean TRE (baseline-new) changed by a factor of 24.393, which means the metric is 93.291 % better (lower mean TRE)\n",
            "For Patient 1, the std of the TRE (baseline-new) changed by a factor of 8.729, which means the metric is 76.989 % better (lower std of the TRE)\n",
            "------------------------------------------------------------------------------------------------------------------------------------------------\n",
            "For Patient 2, the mean TRE (baseline-new) changed by a factor of 17.459, which means the metric is 80.676 % better (lower mean TRE)\n",
            "For Patient 2, the std of the TRE (baseline-new) changed by a factor of 1.380, which means the metric is 21.508 % better (lower std of the TRE)\n",
            "------------------------------------------------------------------------------------------------------------------------------------------------\n",
            "For Patient 3, the mean TRE (baseline-new) changed by a factor of 11.434, which means the metric is 90.564 % better (lower mean TRE)\n",
            "For Patient 3, the std of the TRE (baseline-new) changed by a factor of 5.331, which means the metric is 83.541 % better (lower std of the TRE)\n",
            "------------------------------------------------------------------------------------------------------------------------------------------------\n",
            "For Patient 4, the mean TRE (baseline-new) changed by a factor of 24.737, which means the metric is 83.618 % better (lower mean TRE)\n",
            "For Patient 4, the std of the TRE (baseline-new) changed by a factor of 4.477, which means the metric is 34.641 % better (lower std of the TRE)\n",
            "------------------------------------------------------------------------------------------------------------------------------------------------\n"
          ]
        }
      ]
    },
    {
      "cell_type": "code",
      "source": [
        "print(\"The mean TRE of all patients of the population is\", np.mean(np.array(experiment_12),axis=0)[0], \"and the mean std is \", np.mean(np.array(experiment_12),axis=0)[1])"
      ],
      "metadata": {
        "colab": {
          "base_uri": "https://localhost:8080/"
        },
        "id": "UBSkqBcl_sk0",
        "outputId": "f3c9fdca-9010-4c2a-9361-02b5fafa64ad"
      },
      "execution_count": null,
      "outputs": [
        {
          "output_type": "stream",
          "name": "stdout",
          "text": [
            "The mean TRE of all patients of the population is 2.993453137676335 and the mean std is  4.285484255391211\n"
          ]
        }
      ]
    },
    {
      "cell_type": "markdown",
      "source": [
        "***Experiment 13: Registration parameters 35, images with preprocessing and using segmentation masks***"
      ],
      "metadata": {
        "id": "4FqV-VBtsezj"
      }
    },
    {
      "cell_type": "code",
      "execution_count": null,
      "metadata": {
        "id": "b4bKSagI2zVD",
        "outputId": "2bb3d5ec-65a0-4edf-d8ff-bd81b0d7383c",
        "colab": {
          "base_uri": "https://localhost:8080/"
        }
      },
      "outputs": [
        {
          "output_type": "stream",
          "name": "stdout",
          "text": [
            "For experiment 13, Patient #1, the mean TRE is: 1.6874940954043633, and the Std of the TRE is: 2.425722656291951\n",
            "For experiment 13, Patient #2, the mean TRE is: 4.215375048003838, and the Std of the TRE is: 5.07198138247978\n",
            "For experiment 13, Patient #3, the mean TRE is: 1.1977222157356529, and the Std of the TRE is: 1.035037721671784\n",
            "For experiment 13, Patient #4, the mean TRE is: 3.6623893718458764, and the Std of the TRE is: 7.152482316630945\n"
          ]
        }
      ],
      "source": [
        "experiment_13, output_landmarks_13= ImageRegistrationFramework(preprocessed_inhale_metadata, preprocessed_exhale_metadata,True,True,True,True,masks_inhale,masks_exhale,[parameters_directory+\"/035/Par0035.SPREAD.MI.af.0.txt\",parameters_directory+\"/035/Par0035.SPREAD.MI.bs.1.ASGDPrime.txt\"],13)"
      ]
    },
    {
      "cell_type": "code",
      "source": [
        "TRE_change_e13= ComputeTREChange(TRE_baseline,experiment_13)"
      ],
      "metadata": {
        "colab": {
          "base_uri": "https://localhost:8080/"
        },
        "id": "9A-P8RyI3vk5",
        "outputId": "1c27f86d-02bf-4f07-c306-2abda8d75461"
      },
      "execution_count": null,
      "outputs": [
        {
          "output_type": "stream",
          "name": "stdout",
          "text": [
            "For Patient 1, the mean TRE (baseline-new) changed by a factor of 24.460, which means the metric is 93.546 % better (lower mean TRE)\n",
            "For Patient 1, the std of the TRE (baseline-new) changed by a factor of 8.912, which means the metric is 78.605 % better (lower std of the TRE)\n",
            "------------------------------------------------------------------------------------------------------------------------------------------------\n",
            "For Patient 2, the mean TRE (baseline-new) changed by a factor of 17.425, which means the metric is 80.521 % better (lower mean TRE)\n",
            "For Patient 2, the std of the TRE (baseline-new) changed by a factor of 1.343, which means the metric is 20.939 % better (lower std of the TRE)\n",
            "------------------------------------------------------------------------------------------------------------------------------------------------\n",
            "For Patient 3, the mean TRE (baseline-new) changed by a factor of 11.428, which means the metric is 90.514 % better (lower mean TRE)\n",
            "For Patient 3, the std of the TRE (baseline-new) changed by a factor of 5.347, which means the metric is 83.782 % better (lower std of the TRE)\n",
            "------------------------------------------------------------------------------------------------------------------------------------------------\n",
            "For Patient 4, the mean TRE (baseline-new) changed by a factor of 25.921, which means the metric is 87.620 % better (lower mean TRE)\n",
            "For Patient 4, the std of the TRE (baseline-new) changed by a factor of 5.772, which means the metric is 44.658 % better (lower std of the TRE)\n",
            "------------------------------------------------------------------------------------------------------------------------------------------------\n"
          ]
        }
      ]
    },
    {
      "cell_type": "code",
      "source": [
        "print(\"The mean TRE of all patients of the population is\", np.mean(np.array(experiment_13),axis=0)[0], \"and the mean std is \", np.mean(np.array(experiment_13),axis=0)[1])"
      ],
      "metadata": {
        "colab": {
          "base_uri": "https://localhost:8080/"
        },
        "id": "OAxPK14r_uje",
        "outputId": "ec10273c-b398-44d1-950c-9e6dad7c1121"
      },
      "execution_count": null,
      "outputs": [
        {
          "output_type": "stream",
          "name": "stdout",
          "text": [
            "The mean TRE of all patients of the population is 2.690745182747433 and the mean std is  3.921306019268615\n"
          ]
        }
      ]
    },
    {
      "cell_type": "markdown",
      "source": [
        "***Experiment 14: Registration parameters 15, images with preprocessing and using segmentation masks***"
      ],
      "metadata": {
        "id": "7g-TtC33s1v-"
      }
    },
    {
      "cell_type": "code",
      "execution_count": null,
      "metadata": {
        "id": "T5KvrVr02zVD",
        "outputId": "2c144ec5-efd2-43fd-9dab-61d8a541d0d7",
        "colab": {
          "base_uri": "https://localhost:8080/"
        }
      },
      "outputs": [
        {
          "output_type": "stream",
          "name": "stdout",
          "text": [
            "For experiment 14, Patient #1, the mean TRE is: 2.1320044757382033, and the Std of the TRE is: 3.033288596646261\n",
            "For experiment 14, Patient #2, the mean TRE is: 3.29270452972036, and the Std of the TRE is: 4.451112564826139\n",
            "For experiment 14, Patient #3, the mean TRE is: 1.2072197024756601, and the Std of the TRE is: 0.9845576913830595\n",
            "For experiment 14, Patient #4, the mean TRE is: 1.567720012871464, and the Std of the TRE is: 1.2001232444059555\n"
          ]
        }
      ],
      "source": [
        "experiment_14, output_landmarks_14= ImageRegistrationFramework(preprocessed_inhale_metadata, preprocessed_exhale_metadata,True,True,True,True,masks_inhale,masks_exhale,[parameters_directory+\"/015/Parameters.Par0015.expA.patient.NC.affine.txt\",parameters_directory+\"/015/Parameters.Par0015.expA.patient.LNC.bspline.txt\"],14)"
      ]
    },
    {
      "cell_type": "code",
      "source": [
        "TRE_change_e14= ComputeTREChange(TRE_baseline,experiment_14)"
      ],
      "metadata": {
        "colab": {
          "base_uri": "https://localhost:8080/"
        },
        "id": "9CWS9LHH7LLj",
        "outputId": "b1fe2155-8aad-4b5b-da87-5583f4b62526"
      },
      "execution_count": null,
      "outputs": [
        {
          "output_type": "stream",
          "name": "stdout",
          "text": [
            "For Patient 1, the mean TRE (baseline-new) changed by a factor of 24.015, which means the metric is 91.846 % better (lower mean TRE)\n",
            "For Patient 1, the std of the TRE (baseline-new) changed by a factor of 8.304, which means the metric is 73.246 % better (lower std of the TRE)\n",
            "------------------------------------------------------------------------------------------------------------------------------------------------\n",
            "For Patient 2, the mean TRE (baseline-new) changed by a factor of 18.348, which means the metric is 84.785 % better (lower mean TRE)\n",
            "For Patient 2, the std of the TRE (baseline-new) changed by a factor of 1.964, which means the metric is 30.617 % better (lower std of the TRE)\n",
            "------------------------------------------------------------------------------------------------------------------------------------------------\n",
            "For Patient 3, the mean TRE (baseline-new) changed by a factor of 11.419, which means the metric is 90.439 % better (lower mean TRE)\n",
            "For Patient 3, the std of the TRE (baseline-new) changed by a factor of 5.397, which means the metric is 84.573 % better (lower std of the TRE)\n",
            "------------------------------------------------------------------------------------------------------------------------------------------------\n",
            "For Patient 4, the mean TRE (baseline-new) changed by a factor of 28.016, which means the metric is 94.701 % better (lower mean TRE)\n",
            "For Patient 4, the std of the TRE (baseline-new) changed by a factor of 11.724, which means the metric is 90.714 % better (lower std of the TRE)\n",
            "------------------------------------------------------------------------------------------------------------------------------------------------\n"
          ]
        }
      ]
    },
    {
      "cell_type": "code",
      "source": [
        "print(\"The mean TRE of all patients of the population is\", np.mean(np.array(experiment_14),axis=0)[0], \"and the mean std is \", np.mean(np.array(experiment_14),axis=0)[1])"
      ],
      "metadata": {
        "colab": {
          "base_uri": "https://localhost:8080/"
        },
        "id": "2t0eS0XA_xJk",
        "outputId": "e59d8941-ec62-4704-c542-51ce4c18b0d6"
      },
      "execution_count": null,
      "outputs": [
        {
          "output_type": "stream",
          "name": "stdout",
          "text": [
            "The mean TRE of all patients of the population is 2.0499121802014217 and the mean std is  2.417270524315354\n"
          ]
        }
      ]
    },
    {
      "cell_type": "code",
      "source": [
        "np.mean(np.array(experiment_14),axis=0)"
      ],
      "metadata": {
        "colab": {
          "base_uri": "https://localhost:8080/"
        },
        "id": "xZdX1CHzEE2Y",
        "outputId": "3f45391c-7667-4182-8199-6b4b2495c8f7"
      },
      "execution_count": null,
      "outputs": [
        {
          "output_type": "execute_result",
          "data": {
            "text/plain": [
              "array([2.04991218, 2.41727052])"
            ]
          },
          "metadata": {},
          "execution_count": 41
        }
      ]
    },
    {
      "cell_type": "markdown",
      "source": [
        "Experiment 15"
      ],
      "metadata": {
        "id": "w2k5VX4y7UpH"
      }
    },
    {
      "cell_type": "code",
      "source": [
        "experiment_15, output_landmarks_15= ImageRegistrationFramework(preprocessed_inhale_metadata, preprocessed_exhale_metadata,True,True,True,True,masks_inhale,masks_exhale,[parameters_directory+\"/015/Parameters.Par0015.expA.patient.NC.affine.txt\",parameters_directory+\"/015/Parameters.Par0015.expA.patient.NC.bspline.txt\",parameters_directory+\"/015/Parameters.Par0015.expA.patient.LNC.bspline.txt\"],15)"
      ],
      "metadata": {
        "colab": {
          "base_uri": "https://localhost:8080/"
        },
        "id": "-Lrqg0eRDyQx",
        "outputId": "30f3605f-1bc1-4018-fa95-b7c1468d343d"
      },
      "execution_count": null,
      "outputs": [
        {
          "output_type": "stream",
          "name": "stdout",
          "text": [
            "For experiment 16, Patient #1, the mean TRE is: 2.762920528819709, and the Std of the TRE is: 3.9089355431904793\n",
            "For experiment 16, Patient #2, the mean TRE is: 2.6245500311549956, and the Std of the TRE is: 3.5524586028741507\n",
            "For experiment 16, Patient #3, the mean TRE is: 1.1611113593361158, and the Std of the TRE is: 1.0093910715810974\n",
            "For experiment 16, Patient #4, the mean TRE is: 1.6240636531565096, and the Std of the TRE is: 1.1611074167456867\n"
          ]
        }
      ]
    },
    {
      "cell_type": "code",
      "source": [
        "np.mean(np.array(experiment_16),axis=0)"
      ],
      "metadata": {
        "colab": {
          "base_uri": "https://localhost:8080/"
        },
        "id": "CzrQ3d2aG9n0",
        "outputId": "8e3a9b83-1fea-42a7-9a56-037550c2cf9c"
      },
      "execution_count": null,
      "outputs": [
        {
          "output_type": "execute_result",
          "data": {
            "text/plain": [
              "array([2.04316139, 2.40797316])"
            ]
          },
          "metadata": {},
          "execution_count": 40
        }
      ]
    },
    {
      "cell_type": "code",
      "source": [
        "experiment_17, output_landmarks_17= ImageRegistrationFramework(preprocessed_inhale_metadata, preprocessed_exhale_metadata,True,True,True,True,masks_inhale,masks_exhale,[parameters_directory+\"/015/Parameters.Par0015.expA.patient.NC.affine.txt\",parameters_directory+\"/035/Par0035.SPREAD.MI.af.0.txt\",parameters_directory+\"/015/Parameters.Par0015.expA.patient.NC.bspline.txt\",parameters_directory+\"/015/Parameters.Par0015.expA.patient.LNC.bspline.txt\"],17)"
      ],
      "metadata": {
        "colab": {
          "base_uri": "https://localhost:8080/"
        },
        "id": "ptgm44QrHB7N",
        "outputId": "d66c08fd-ed69-45c2-e61f-60804751fb76"
      },
      "execution_count": null,
      "outputs": [
        {
          "output_type": "stream",
          "name": "stdout",
          "text": [
            "For experiment 17, Patient #1, the mean TRE is: 2.7132284620399787, and the Std of the TRE is: 3.891932283424601\n",
            "For experiment 17, Patient #2, the mean TRE is: 2.5893269241967465, and the Std of the TRE is: 3.4212688353779392\n",
            "For experiment 17, Patient #3, the mean TRE is: 1.137033379584082, and the Std of the TRE is: 0.9933009034805166\n",
            "For experiment 17, Patient #4, the mean TRE is: 1.6051233036538723, and the Std of the TRE is: 1.1655194958021786\n"
          ]
        }
      ]
    },
    {
      "cell_type": "code",
      "source": [
        "np.mean(np.array(experiment_17),axis=0)"
      ],
      "metadata": {
        "colab": {
          "base_uri": "https://localhost:8080/"
        },
        "id": "CH3Sa-GWKZac",
        "outputId": "a7785580-c2b0-47df-c2f9-06871de2e862"
      },
      "execution_count": null,
      "outputs": [
        {
          "output_type": "execute_result",
          "data": {
            "text/plain": [
              "array([2.01117802, 2.36800538])"
            ]
          },
          "metadata": {},
          "execution_count": 44
        }
      ]
    },
    {
      "cell_type": "markdown",
      "source": [
        "Experiment 15"
      ],
      "metadata": {
        "id": "7gTZgl-j7yMF"
      }
    },
    {
      "cell_type": "code",
      "source": [
        "experiment_15, output_landmarks_15= ImageRegistrationFramework(preprocessed_inhale_metadata, preprocessed_exhale_metadata,True,True,True,True,masks_inhale,masks_exhale,[parameters_directory+\"/015/Parameters.Par0015.expA.patient.NC.affine.txt\",parameters_directory+\"/035/Par0035.SPREAD.MI.af.0.txt\",parameters_directory+\"/015/Parameters.Par0015.expA.patient.NC.bspline.txt\",parameters_directory+\"/015/Parameters.Par0015.expA.patient.LNC.bspline.txt\",parameters_directory+\"/035/Par0035.SPREAD.MI.bs.1.ASGDPrime.txt\",],15)"
      ],
      "metadata": {
        "colab": {
          "base_uri": "https://localhost:8080/"
        },
        "id": "iqL1dTD7KdyL",
        "outputId": "9b33e16a-087b-43af-991d-93b3c651c683"
      },
      "execution_count": null,
      "outputs": [
        {
          "output_type": "stream",
          "name": "stdout",
          "text": [
            "For experiment 15, Patient #1, the mean TRE is: 2.5814535349883467, and the Std of the TRE is: 3.6667112250984313\n",
            "For experiment 15, Patient #2, the mean TRE is: 2.6957470117880016, and the Std of the TRE is: 3.4726308568910405\n",
            "For experiment 15, Patient #3, the mean TRE is: 1.1255316953014487, and the Std of the TRE is: 1.008676524751465\n",
            "For experiment 15, Patient #4, the mean TRE is: 1.553629810648748, and the Std of the TRE is: 1.199966776702028\n"
          ]
        }
      ]
    },
    {
      "cell_type": "code",
      "source": [
        "print(\"The mean TRE of all patients of the population is\", np.mean(np.array(experiment_15),axis=0)[0], \"and the mean std is \", np.mean(np.array(experiment_15),axis=0)[1])"
      ],
      "metadata": {
        "colab": {
          "base_uri": "https://localhost:8080/"
        },
        "id": "dVI9m_ulO-HO",
        "outputId": "40fb5717-62e0-48f5-b650-309e52af327c"
      },
      "execution_count": null,
      "outputs": [
        {
          "output_type": "stream",
          "name": "stdout",
          "text": [
            "The mean TRE of all patients of the population is 1.9890905131816363 and the mean std is  2.336996345860741\n"
          ]
        }
      ]
    },
    {
      "cell_type": "code",
      "source": [
        "for i in range(4): \n",
        "  path = train_directory+'/'+str(i+1)+\"/Experiment_15/output_transformed_landmarks.txt\"\n",
        "  output_transformed_landmarks(path, output_landmarks_15[i])"
      ],
      "metadata": {
        "id": "DC6hiC1X_3hH"
      },
      "execution_count": null,
      "outputs": []
    },
    {
      "cell_type": "code",
      "execution_count": null,
      "metadata": {
        "id": "I44gHQ042zVE"
      },
      "outputs": [],
      "source": [
        "with open('C:\\\\FP\\\\train\\\\1\\Experiment_11\\\\output_landmarks.txt','w') as f: \n",
        "    for vector in output_landmarks_11[0]:\n",
        "        f.write(' '.join(map(str,vector))+'\\n')"
      ]
    },
    {
      "cell_type": "code",
      "execution_count": null,
      "metadata": {
        "id": "5HS_M3t32zVF",
        "outputId": "4b216d68-6789-475b-cf3b-bab275a5f5cf"
      },
      "outputs": [
        {
          "data": {
            "text/plain": [
              "array([2.22371778, 2.56190565])"
            ]
          },
          "execution_count": 34,
          "metadata": {},
          "output_type": "execute_result"
        }
      ],
      "source": [
        "np.mean(np.array(experiment_11),axis=0)"
      ]
    }
  ],
  "metadata": {
    "kernelspec": {
      "display_name": "Python 3.9.13 ('base')",
      "language": "python",
      "name": "python3"
    },
    "language_info": {
      "codemirror_mode": {
        "name": "ipython",
        "version": 3
      },
      "file_extension": ".py",
      "mimetype": "text/x-python",
      "name": "python",
      "nbconvert_exporter": "python",
      "pygments_lexer": "ipython3",
      "version": "3.9.13"
    },
    "orig_nbformat": 4,
    "vscode": {
      "interpreter": {
        "hash": "555102e726f7758bed6050b8d293992404b4edc8f0b35355975f8fe7dd9b7a48"
      }
    },
    "colab": {
      "provenance": [],
      "machine_shape": "hm"
    },
    "gpuClass": "premium",
    "accelerator": "GPU"
  },
  "nbformat": 4,
  "nbformat_minor": 0
}